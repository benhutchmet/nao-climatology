{
 "cells": [
  {
   "cell_type": "code",
   "execution_count": null,
   "metadata": {},
   "outputs": [],
   "source": [
    "# Import the relevant modules\n",
    "import numpy as np\n",
    "import os\n",
    "import sys\n",
    "import xarray as xr\n",
    "import numpy as np\n",
    "import pandas as pd\n",
    "import matplotlib.pyplot as plt\n",
    "from scipy.stats import pearsonr, mstats, ttest_rel, ttest_ind, ttest_1samp\n",
    "from sklearn.utils import resample\n",
    "# import the datetime library\n",
    "from datetime import datetime"
   ]
  },
  {
   "cell_type": "code",
   "execution_count": null,
   "metadata": {},
   "outputs": [],
   "source": [
    "# Import dictionaries and functions\n",
    "import dictionaries as dic\n",
    "import functions as fct"
   ]
  },
  {
   "cell_type": "code",
   "execution_count": null,
   "metadata": {},
   "outputs": [],
   "source": [
    "# Load the data using the load_data function\n",
    "psl_data = fct.load_data(dic.ERA5_psl_global_path, dic.psl)\n",
    "sfc_wind_data = fct.load_data(dic.ERA5_tas_wind_global_path, dic.sfc_wind)\n",
    "tas_data = fct.load_data(dic.ERA5_tas_wind_global_path, dic.tas)"
   ]
  },
  {
   "cell_type": "code",
   "execution_count": null,
   "metadata": {},
   "outputs": [],
   "source": [
    "# First we calculate a normalised index for the NAO\n",
    "# Using the psl data\n",
    "norm_NAO_index = fct.NAO_index(psl_data, dic.azores_grid, dic.iceland_grid)"
   ]
  },
  {
   "cell_type": "code",
   "execution_count": null,
   "metadata": {},
   "outputs": [],
   "source": [
    "# Now we select the NAO anomalies\n",
    "# from the normalised NAO index\n",
    "pos_anom, pos_anom_ind, pos_anom_dates, neg_anom, neg_anom_ind, neg_anom_dates \\\n",
    "    = fct.NAO_anomalies(norm_NAO_index) "
   ]
  },
  {
   "cell_type": "code",
   "execution_count": null,
   "metadata": {},
   "outputs": [],
   "source": [
    "# Now we select the sfc wind anomalies\n",
    "# from the sfc wind data\n",
    "pos_anom_sfc_wind, neg_anom_sfc_wind = \\\n",
    "    fct.select_anomaly_time_series(pos_anom, pos_anom_dates, neg_anom, \\\n",
    "                                   neg_anom_dates, sfc_wind_data)\n",
    "\n",
    "# Now we select the tas anomalies\n",
    "# from the tas data\n",
    "pos_anom_tas, neg_anom_tas = \\\n",
    "    fct.select_anomaly_time_series(pos_anom, pos_anom_dates, neg_anom, \\\n",
    "                                      neg_anom_dates, tas_data)\n"
   ]
  },
  {
   "cell_type": "code",
   "execution_count": null,
   "metadata": {},
   "outputs": [],
   "source": [
    "# Now constrain both of these to the North Atlantic region\n",
    "# using the lat_range and lon_range variables\n",
    "pos_anom_sfc_wind_NA = fct.constrain_to_north_atlantic(pos_anom_sfc_wind, \\\n",
    "                                                    dic.lat_range, dic.lon_range)\n",
    "neg_anom_sfc_wind_NA = fct.constrain_to_north_atlantic(neg_anom_sfc_wind, \\\n",
    "                                                    dic.lat_range, dic.lon_range)\n",
    "\n",
    "pos_anom_tas_NA = fct.constrain_to_north_atlantic(pos_anom_tas, \\\n",
    "                                                    dic.lat_range, dic.lon_range)\n",
    "neg_anom_tas_NA = fct.constrain_to_north_atlantic(neg_anom_tas, \\\n",
    "                                                    dic.lat_range, dic.lon_range)\n"
   ]
  },
  {
   "cell_type": "code",
   "execution_count": null,
   "metadata": {},
   "outputs": [],
   "source": [
    "# Now we plot the sfc wind anomalies\n",
    "# for the positive NAO phase\n",
    "fct.plot_time_mean_constrained(pos_anom_sfc_wind_NA, dic.sfc_wind)"
   ]
  }
 ],
 "metadata": {
  "language_info": {
   "name": "python"
  },
  "orig_nbformat": 4
 },
 "nbformat": 4,
 "nbformat_minor": 2
}
