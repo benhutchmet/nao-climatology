{
 "cells": [
  {
   "cell_type": "code",
   "execution_count": null,
   "metadata": {},
   "outputs": [],
   "source": [
    "# Import the relevant modules\n",
    "import numpy as np\n",
    "import os\n",
    "import sys\n",
    "import xarray as xr\n",
    "import numpy as np\n",
    "import pandas as pd\n",
    "import matplotlib.pyplot as plt\n",
    "from scipy.stats import pearsonr, mstats, ttest_rel, ttest_ind, ttest_1samp\n",
    "from sklearn.utils import resample\n",
    "# import the datetime library\n",
    "from datetime import datetime"
   ]
  },
  {
   "cell_type": "code",
   "execution_count": null,
   "metadata": {},
   "outputs": [],
   "source": [
    "# Import dictionaries and functions\n",
    "import dictionaries as dic\n",
    "import functions as fct"
   ]
  },
  {
   "cell_type": "code",
   "execution_count": null,
   "metadata": {},
   "outputs": [],
   "source": [
    "# Load the data using xarray with chunks specified\n",
    "ERA5_psl_global = xr.open_dataset(dic.ERA5_psl_global_path, \\\n",
    "                                    chunks = {'time': 100})\n",
    "\n",
    "ERA5_tas_wind_global = xr.open_dataset(dic.ERA5_tas_wind_global_path, \\\n",
    "                                    chunks = {'time': 100})"
   ]
  },
  {
   "cell_type": "code",
   "execution_count": null,
   "metadata": {},
   "outputs": [],
   "source": [
    "# First we calculate a normalised index for the NAO\n",
    "# Using the psl data"
   ]
  }
 ],
 "metadata": {
  "language_info": {
   "name": "python"
  },
  "orig_nbformat": 4
 },
 "nbformat": 4,
 "nbformat_minor": 2
}
